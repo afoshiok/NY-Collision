{
 "cells": [
  {
   "cell_type": "code",
   "execution_count": 2,
   "metadata": {},
   "outputs": [],
   "source": [
    "import duckdb"
   ]
  },
  {
   "cell_type": "markdown",
   "metadata": {},
   "source": [
    "### Testing Duckdb, making sure it's connected"
   ]
  },
  {
   "cell_type": "code",
   "execution_count": 3,
   "metadata": {},
   "outputs": [
    {
     "name": "stdout",
     "output_type": "stream",
     "text": [
      "┌────────────┬────────────┬───────────┬───┬─────────────────────┬─────────────────────┬─────────────────────┐\n",
      "│ CRASH DATE │ CRASH TIME │  BOROUGH  │ … │ VEHICLE TYPE CODE 3 │ VEHICLE TYPE CODE 4 │ VEHICLE TYPE CODE 5 │\n",
      "│    date    │  varchar   │  varchar  │   │       varchar       │       varchar       │       varchar       │\n",
      "├────────────┼────────────┼───────────┼───┼─────────────────────┼─────────────────────┼─────────────────────┤\n",
      "│ 2021-09-11 │ 2:39       │ NULL      │ … │ NULL                │ NULL                │ NULL                │\n",
      "│ 2022-03-26 │ 11:45      │ NULL      │ … │ NULL                │ NULL                │ NULL                │\n",
      "│ 2022-06-29 │ 6:55       │ NULL      │ … │ NULL                │ NULL                │ NULL                │\n",
      "│ 2021-09-11 │ 9:35       │ BROOKLYN  │ … │ NULL                │ NULL                │ NULL                │\n",
      "│ 2021-12-14 │ 8:13       │ BROOKLYN  │ … │ NULL                │ NULL                │ NULL                │\n",
      "│ 2021-04-14 │ 12:47      │ NULL      │ … │ NULL                │ NULL                │ NULL                │\n",
      "│ 2021-12-14 │ 17:05      │ NULL      │ … │ NULL                │ NULL                │ NULL                │\n",
      "│ 2021-12-14 │ 8:17       │ BRONX     │ … │ NULL                │ NULL                │ NULL                │\n",
      "│ 2021-12-14 │ 21:10      │ BROOKLYN  │ … │ NULL                │ NULL                │ NULL                │\n",
      "│ 2021-12-14 │ 14:58      │ MANHATTAN │ … │ NULL                │ NULL                │ NULL                │\n",
      "├────────────┴────────────┴───────────┴───┴─────────────────────┴─────────────────────┴─────────────────────┤\n",
      "│ 10 rows                                                                              29 columns (6 shown) │\n",
      "└───────────────────────────────────────────────────────────────────────────────────────────────────────────┘\n",
      "\n"
     ]
    }
   ],
   "source": [
    "con = duckdb.connect(\"NY_Collisions.duckdb\")\n",
    "table_test = con.sql(\"SELECT * FROM './NY_Collisions.csv' LIMIT 10;\")\n",
    "table_test.show()"
   ]
  },
  {
   "cell_type": "markdown",
   "metadata": {},
   "source": [
    "### Create a 'collisions' table from csv file\n",
    "\n",
    "Using a CTE + Subquery because the 'ZIP CODE' field has couldn't auto detect. Will fix this in dbt later!"
   ]
  },
  {
   "cell_type": "code",
   "execution_count": 5,
   "metadata": {},
   "outputs": [
    {
     "data": {
      "application/vnd.jupyter.widget-view+json": {
       "model_id": "572b947b45b44e688096a69475aa7961",
       "version_major": 2,
       "version_minor": 0
      },
      "text/plain": [
       "FloatProgress(value=0.0, layout=Layout(width='auto'), style=ProgressStyle(bar_color='black'))"
      ]
     },
     "metadata": {},
     "output_type": "display_data"
    },
    {
     "name": "stdout",
     "output_type": "stream",
     "text": [
      "┌────────────┬────────────┬───────────┬───┬─────────────────────┬─────────────────────┬─────────────────────┐\n",
      "│ CRASH DATE │ CRASH TIME │  BOROUGH  │ … │ VEHICLE TYPE CODE 3 │ VEHICLE TYPE CODE 4 │ VEHICLE TYPE CODE 5 │\n",
      "│    date    │  varchar   │  varchar  │   │       varchar       │       varchar       │       varchar       │\n",
      "├────────────┼────────────┼───────────┼───┼─────────────────────┼─────────────────────┼─────────────────────┤\n",
      "│ 2021-09-11 │ 2:39       │ NULL      │ … │ NULL                │ NULL                │ NULL                │\n",
      "│ 2022-03-26 │ 11:45      │ NULL      │ … │ NULL                │ NULL                │ NULL                │\n",
      "│ 2022-06-29 │ 6:55       │ NULL      │ … │ NULL                │ NULL                │ NULL                │\n",
      "│ 2021-09-11 │ 9:35       │ BROOKLYN  │ … │ NULL                │ NULL                │ NULL                │\n",
      "│ 2021-12-14 │ 8:13       │ BROOKLYN  │ … │ NULL                │ NULL                │ NULL                │\n",
      "│ 2021-04-14 │ 12:47      │ NULL      │ … │ NULL                │ NULL                │ NULL                │\n",
      "│ 2021-12-14 │ 17:05      │ NULL      │ … │ NULL                │ NULL                │ NULL                │\n",
      "│ 2021-12-14 │ 8:17       │ BRONX     │ … │ NULL                │ NULL                │ NULL                │\n",
      "│ 2021-12-14 │ 21:10      │ BROOKLYN  │ … │ NULL                │ NULL                │ NULL                │\n",
      "│ 2021-12-14 │ 14:58      │ MANHATTAN │ … │ NULL                │ NULL                │ NULL                │\n",
      "├────────────┴────────────┴───────────┴───┴─────────────────────┴─────────────────────┴─────────────────────┤\n",
      "│ 10 rows                                                                              29 columns (6 shown) │\n",
      "└───────────────────────────────────────────────────────────────────────────────────────────────────────────┘\n",
      "\n"
     ]
    }
   ],
   "source": [
    "create_table = con.sql(\"\"\"\n",
    "                       \n",
    "CREATE TABLE collisions AS\n",
    "FROM (SELECT * FROM read_csv('./NY_Collisions.csv', types={'ZIP CODE': 'VARCHAR'}));\n",
    "                       \n",
    "\"\"\") \n",
    "\n",
    "collision_table = con.sql(\"SELECT * FROM collisions LIMIT 10;\")\n",
    "\n",
    "collision_table.show()"
   ]
  },
  {
   "cell_type": "code",
   "execution_count": 6,
   "metadata": {},
   "outputs": [
    {
     "name": "stdout",
     "output_type": "stream",
     "text": [
      "┌──────────────┐\n",
      "│ count_star() │\n",
      "│    int64     │\n",
      "├──────────────┤\n",
      "│      2100238 │\n",
      "└──────────────┘\n",
      "\n"
     ]
    }
   ],
   "source": [
    "count = con.sql(\"SELECT COUNT(*) FROM collisions;\")\n",
    "count.show()"
   ]
  },
  {
   "cell_type": "markdown",
   "metadata": {},
   "source": [
    "Table created on to making the dbt moodels."
   ]
  },
  {
   "cell_type": "code",
   "execution_count": 4,
   "metadata": {},
   "outputs": [
    {
     "name": "stdout",
     "output_type": "stream",
     "text": [
      "┌───────┐\n",
      "│  id   │\n",
      "│ int32 │\n",
      "├───────┤\n",
      "│     1 │\n",
      "│  NULL │\n",
      "└───────┘\n",
      "\n"
     ]
    }
   ],
   "source": [
    "dbt_test = con.sql(\"SELECT * FROM my_first_dbt_model;\")\n",
    "dbt_test.show()"
   ]
  }
 ],
 "metadata": {
  "kernelspec": {
   "display_name": "base",
   "language": "python",
   "name": "python3"
  },
  "language_info": {
   "codemirror_mode": {
    "name": "ipython",
    "version": 3
   },
   "file_extension": ".py",
   "mimetype": "text/x-python",
   "name": "python",
   "nbconvert_exporter": "python",
   "pygments_lexer": "ipython3",
   "version": "3.9.13"
  }
 },
 "nbformat": 4,
 "nbformat_minor": 2
}
